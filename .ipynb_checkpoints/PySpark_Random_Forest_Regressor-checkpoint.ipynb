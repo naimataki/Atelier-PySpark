{
 "cells": [
  {
   "cell_type": "code",
   "execution_count": 1,
   "metadata": {
    "id": "wNQvOcLSJC4D"
   },
   "outputs": [
    {
     "name": "stderr",
     "output_type": "stream",
     "text": [
      "The system cannot find the path specified.\n",
      "'wget' is not recognized as an internal or external command,\n",
      "operable program or batch file.\n",
      "tar: Error opening archive: Failed to open 'spark-2.4.8-bin-hadoop2.7.tgz'\n"
     ]
    }
   ],
   "source": [
    "!apt-get install openjdk-8-jdk-headless -qq > /dev/null\n",
    "!wget -q https://downloads.apache.org/spark/spark-2.4.8/spark-2.4.8-bin-hadoop2.7.tgz\n",
    "!tar xf spark-2.4.8-bin-hadoop2.7.tgz\n",
    "!pip install -q findspark"
   ]
  },
  {
   "cell_type": "code",
   "execution_count": 3,
   "metadata": {
    "id": "VQDp31ePJF07"
   },
   "outputs": [],
   "source": [
    "from pyspark import SparkContext, SparkConf"
   ]
  },
  {
   "cell_type": "code",
   "execution_count": 6,
   "metadata": {
    "id": "Nu0J9qykJZFz"
   },
   "outputs": [],
   "source": [
    "conf = SparkConf().setAppName('Spark Prac').setMaster('local')\n",
    "sc = SparkContext(conf = conf)"
   ]
  },
  {
   "cell_type": "code",
   "execution_count": 7,
   "metadata": {
    "id": "qLWtEmhuKoMa"
   },
   "outputs": [],
   "source": [
    "data = sc.textFile('Admission_Prediction.csv')"
   ]
  },
  {
   "cell_type": "markdown",
   "metadata": {
    "id": "yFgucSWId9yy"
   },
   "source": [
    "#### Import PySpark ML Libraries"
   ]
  },
  {
   "cell_type": "code",
   "execution_count": 8,
   "metadata": {
    "id": "9GiDs0Iib1fR"
   },
   "outputs": [],
   "source": [
    "from __future__ import print_function\n",
    "import pyspark\n",
    "from pyspark.sql import SparkSession\n",
    "from pyspark.ml.feature import VectorAssembler, VectorIndexer\n",
    "from pyspark.ml.feature import VectorAssembler\n",
    "from pyspark.ml.regression import LinearRegression\n",
    "from pyspark.ml.regression import RandomForestRegressor\n",
    "from pyspark.ml.evaluation import RegressionEvaluator"
   ]
  },
  {
   "cell_type": "code",
   "execution_count": 9,
   "metadata": {
    "id": "QVFPPBfkb1iU"
   },
   "outputs": [],
   "source": [
    "spark = SparkSession.builder.appName(\"Spark ML Algo\").getOrCreate()"
   ]
  },
  {
   "cell_type": "code",
   "execution_count": 10,
   "metadata": {
    "id": "e1-2JhZ-b1lt"
   },
   "outputs": [],
   "source": [
    "dataframe = spark.read.csv(\"Admission_Prediction.csv\", header=True)"
   ]
  },
  {
   "cell_type": "code",
   "execution_count": 11,
   "metadata": {
    "colab": {
     "base_uri": "https://localhost:8080/"
    },
    "id": "AztfoAWpb1qW",
    "outputId": "67565647-1186-4f0a-c5d3-1b3c8ed31c73"
   },
   "outputs": [
    {
     "data": {
      "text/plain": [
       "pyspark.sql.dataframe.DataFrame"
      ]
     },
     "execution_count": 11,
     "metadata": {},
     "output_type": "execute_result"
    }
   ],
   "source": [
    "type(dataframe)"
   ]
  },
  {
   "cell_type": "code",
   "execution_count": 12,
   "metadata": {
    "colab": {
     "base_uri": "https://localhost:8080/"
    },
    "id": "qzabGQgBb1tW",
    "outputId": "7a7cb128-6327-41f5-e827-e5e19181a858"
   },
   "outputs": [
    {
     "name": "stdout",
     "output_type": "stream",
     "text": [
      "+---------+-----------+-----------------+----+----+----+--------+---------------+\n",
      "|GRE Score|TOEFL Score|University Rating| SOP| LOR|CGPA|Research|Chance of Admit|\n",
      "+---------+-----------+-----------------+----+----+----+--------+---------------+\n",
      "|   337.00|     118.00|                4|4.50|4.50|9.65|    1.00|           0.92|\n",
      "|   324.00|     107.00|                4|4.00|4.50|8.87|    1.00|           0.76|\n",
      "|     NULL|     104.00|                3|3.00|3.50|8.00|    1.00|           0.72|\n",
      "|   322.00|     110.00|                3|3.50|2.50|8.67|    1.00|           0.80|\n",
      "|   314.00|     103.00|                2|2.00|3.00|8.21|    0.00|           0.65|\n",
      "|   330.00|     115.00|                5|4.50|3.00|9.34|    1.00|           0.90|\n",
      "|   321.00|     109.00|             NULL|3.00|4.00|8.20|    1.00|           0.75|\n",
      "|   308.00|     101.00|                2|3.00|4.00|7.90|    0.00|           0.68|\n",
      "|   302.00|     102.00|                1|2.00|1.50|8.00|    0.00|           0.50|\n",
      "|   323.00|     108.00|                3|3.50|3.00|8.60|    0.00|           0.45|\n",
      "|   325.00|     106.00|                3|3.50|4.00|8.40|    1.00|           0.52|\n",
      "|   327.00|     111.00|                4|4.00|4.50|9.00|    1.00|           0.84|\n",
      "|     NULL|     112.00|                4|4.00|4.50|9.10|    1.00|           0.78|\n",
      "|   307.00|     109.00|                3|4.00|3.00|8.00|    1.00|           0.62|\n",
      "|   311.00|     104.00|                3|3.50|2.00|8.20|    1.00|           0.61|\n",
      "|   314.00|     105.00|                3|3.50|2.50|8.30|    0.00|           0.54|\n",
      "|   317.00|     107.00|                3|4.00|3.00|8.70|    0.00|           0.66|\n",
      "|   319.00|     106.00|                3|4.00|3.00|8.00|    1.00|           0.65|\n",
      "|   318.00|     110.00|                3|4.00|3.00|8.80|    0.00|           0.63|\n",
      "|   303.00|     102.00|                3|3.50|3.00|8.50|    0.00|           0.62|\n",
      "+---------+-----------+-----------------+----+----+----+--------+---------------+\n",
      "only showing top 20 rows\n",
      "\n"
     ]
    }
   ],
   "source": [
    "dataframe.show()"
   ]
  },
  {
   "cell_type": "code",
   "execution_count": 13,
   "metadata": {
    "colab": {
     "base_uri": "https://localhost:8080/"
    },
    "id": "6h0a6XO1b1wF",
    "outputId": "eee242e0-f21c-4d69-95cc-46dc9dc83d7b"
   },
   "outputs": [
    {
     "name": "stdout",
     "output_type": "stream",
     "text": [
      "root\n",
      " |-- GRE Score: string (nullable = true)\n",
      " |-- TOEFL Score: string (nullable = true)\n",
      " |-- University Rating: string (nullable = true)\n",
      " |-- SOP: string (nullable = true)\n",
      " |-- LOR: string (nullable = true)\n",
      " |-- CGPA: string (nullable = true)\n",
      " |-- Research: string (nullable = true)\n",
      " |-- Chance of Admit: string (nullable = true)\n",
      "\n"
     ]
    }
   ],
   "source": [
    "dataframe.printSchema()"
   ]
  },
  {
   "cell_type": "code",
   "execution_count": 14,
   "metadata": {
    "id": "KqiZAPIMb1yi"
   },
   "outputs": [],
   "source": [
    "from pyspark.sql.functions import col\n",
    "new_dataframe = dataframe.select(*(col(c).cast(\"float\").alias(c) for c in dataframe.columns))"
   ]
  },
  {
   "cell_type": "code",
   "execution_count": 15,
   "metadata": {
    "colab": {
     "base_uri": "https://localhost:8080/"
    },
    "id": "jcTuJC-ikNSm",
    "outputId": "55161044-490b-4920-8b7f-b281f559ac3d"
   },
   "outputs": [
    {
     "name": "stdout",
     "output_type": "stream",
     "text": [
      "root\n",
      " |-- GRE Score: float (nullable = true)\n",
      " |-- TOEFL Score: float (nullable = true)\n",
      " |-- University Rating: float (nullable = true)\n",
      " |-- SOP: float (nullable = true)\n",
      " |-- LOR: float (nullable = true)\n",
      " |-- CGPA: float (nullable = true)\n",
      " |-- Research: float (nullable = true)\n",
      " |-- Chance of Admit: float (nullable = true)\n",
      "\n"
     ]
    }
   ],
   "source": [
    "new_dataframe.printSchema()"
   ]
  },
  {
   "cell_type": "code",
   "execution_count": 17,
   "metadata": {
    "id": "FiEierfbkNWF"
   },
   "outputs": [],
   "source": [
    "from pyspark.sql.functions import col, count, isnan, when"
   ]
  },
  {
   "cell_type": "code",
   "execution_count": 18,
   "metadata": {
    "colab": {
     "base_uri": "https://localhost:8080/"
    },
    "id": "YVqXbKK3kNZN",
    "outputId": "09abe500-476a-40dc-d198-18410a9ad8a8"
   },
   "outputs": [
    {
     "name": "stdout",
     "output_type": "stream",
     "text": [
      "GRE Score\n",
      "TOEFL Score\n",
      "University Rating\n",
      "SOP\n",
      "LOR\n",
      "CGPA\n",
      "Research\n",
      "Chance of Admit\n"
     ]
    }
   ],
   "source": [
    "for c in new_dataframe.columns:\n",
    "  print(c)"
   ]
  },
  {
   "cell_type": "code",
   "execution_count": 19,
   "metadata": {
    "colab": {
     "base_uri": "https://localhost:8080/"
    },
    "id": "oeJrSXQ5b14c",
    "outputId": "71b36d5d-e791-483d-c611-b0f072d918d4"
   },
   "outputs": [
    {
     "name": "stdout",
     "output_type": "stream",
     "text": [
      "+---------+-----------+-----------------+---+---+----+--------+---------------+\n",
      "|GRE Score|TOEFL Score|University Rating|SOP|LOR|CGPA|Research|Chance of Admit|\n",
      "+---------+-----------+-----------------+---+---+----+--------+---------------+\n",
      "|       15|         10|               15|  0|  0|   0|       0|              0|\n",
      "+---------+-----------+-----------------+---+---+----+--------+---------------+\n",
      "\n"
     ]
    }
   ],
   "source": [
    "### Checking for null ir nan type values in out columns\n",
    "new_dataframe.select([count(when(col(c).isNull(), c)).alias(c) for c in new_dataframe.columns]).show()"
   ]
  },
  {
   "cell_type": "code",
   "execution_count": 20,
   "metadata": {
    "id": "I3_MsHiupjuN"
   },
   "outputs": [],
   "source": [
    "from pyspark.ml.feature import Imputer"
   ]
  },
  {
   "cell_type": "code",
   "execution_count": 21,
   "metadata": {
    "id": "edtWrqmmsMnE"
   },
   "outputs": [],
   "source": [
    "imputer = Imputer(inputCols=[\"GRE Score\", \"TOEFL Score\",\"University Rating\"], \n",
    "                  outputCols=[\"GRE Score\", \"TOEFL Score\",\"University Rating\"])\n",
    "model = imputer.fit(new_dataframe)\n",
    "\n",
    "imputed_data = model.transform(new_dataframe)"
   ]
  },
  {
   "cell_type": "code",
   "execution_count": 22,
   "metadata": {
    "colab": {
     "base_uri": "https://localhost:8080/"
    },
    "id": "phzcbc8PsXbG",
    "outputId": "17e505ea-f12b-48e1-ecb6-3e9bd577a0f0"
   },
   "outputs": [
    {
     "data": {
      "text/plain": [
       "DataFrame[GRE Score: float, TOEFL Score: float, University Rating: float, SOP: float, LOR: float, CGPA: float, Research: float, Chance of Admit: float]"
      ]
     },
     "execution_count": 22,
     "metadata": {},
     "output_type": "execute_result"
    }
   ],
   "source": [
    "imputed_data"
   ]
  },
  {
   "cell_type": "code",
   "execution_count": 23,
   "metadata": {
    "colab": {
     "base_uri": "https://localhost:8080/"
    },
    "id": "__U8GAMqsi2t",
    "outputId": "58696e69-2b32-4c89-b89c-c71c75ea4227"
   },
   "outputs": [
    {
     "name": "stdout",
     "output_type": "stream",
     "text": [
      "+---------+-----------+-----------------+---+---+----+--------+---------------+\n",
      "|GRE Score|TOEFL Score|University Rating|SOP|LOR|CGPA|Research|Chance of Admit|\n",
      "+---------+-----------+-----------------+---+---+----+--------+---------------+\n",
      "|        0|          0|                0|  0|  0|   0|       0|              0|\n",
      "+---------+-----------+-----------------+---+---+----+--------+---------------+\n",
      "\n"
     ]
    }
   ],
   "source": [
    "#checking for null ir nan type values in our columns\n",
    "imputed_data.select([count(when(col(c).isNull(), c)).alias(c) for c in imputed_data.columns]).show()"
   ]
  },
  {
   "cell_type": "code",
   "execution_count": 24,
   "metadata": {
    "id": "N7zkak-fsltU"
   },
   "outputs": [],
   "source": [
    "features = imputed_data.drop('Chance of Admit')"
   ]
  },
  {
   "cell_type": "code",
   "execution_count": 25,
   "metadata": {
    "colab": {
     "base_uri": "https://localhost:8080/"
    },
    "id": "I925bBLQsnq1",
    "outputId": "5df17ef4-2f77-4a93-8300-dc6a70f4679a"
   },
   "outputs": [
    {
     "data": {
      "text/plain": [
       "DataFrame[GRE Score: float, TOEFL Score: float, University Rating: float, SOP: float, LOR: float, CGPA: float, Research: float]"
      ]
     },
     "execution_count": 25,
     "metadata": {},
     "output_type": "execute_result"
    }
   ],
   "source": [
    "features"
   ]
  },
  {
   "cell_type": "code",
   "execution_count": 26,
   "metadata": {
    "id": "CutmTZhTso9c"
   },
   "outputs": [],
   "source": [
    "#let's assemble our features together using vectorAssembler\n",
    "assembler = VectorAssembler( inputCols=features.columns,outputCol=\"features\")"
   ]
  },
  {
   "cell_type": "code",
   "execution_count": 27,
   "metadata": {
    "id": "D-G5yD1Fsq0s"
   },
   "outputs": [],
   "source": [
    "output = assembler.transform(imputed_data)"
   ]
  },
  {
   "cell_type": "markdown",
   "metadata": {
    "id": "j3ku1CRazpIg"
   },
   "source": [
    "#### Linear Regressor"
   ]
  },
  {
   "cell_type": "code",
   "execution_count": 28,
   "metadata": {
    "id": "dtSW13HxzuOs"
   },
   "outputs": [],
   "source": [
    "output= output.select(\"features\", \"Chance of Admit\")"
   ]
  },
  {
   "cell_type": "code",
   "execution_count": 29,
   "metadata": {
    "id": "1_bAHs6LzyPm"
   },
   "outputs": [],
   "source": [
    "output = assembler.transform(imputed_data)"
   ]
  },
  {
   "cell_type": "code",
   "execution_count": 30,
   "metadata": {
    "id": "YDlX0iyHz0E1"
   },
   "outputs": [],
   "source": [
    "output= output.select(\"features\", \"Chance of Admit\")"
   ]
  },
  {
   "cell_type": "code",
   "execution_count": 31,
   "metadata": {
    "id": "X2_MwCrn0Wce"
   },
   "outputs": [],
   "source": [
    "train_df,test_df = output.randomSplit([0.7, 0.3])"
   ]
  },
  {
   "cell_type": "code",
   "execution_count": 32,
   "metadata": {
    "colab": {
     "base_uri": "https://localhost:8080/"
    },
    "id": "FpIJaQi40Yq-",
    "outputId": "e6c1fe75-dc82-4d60-ebfe-3f4d14bb224c"
   },
   "outputs": [
    {
     "name": "stdout",
     "output_type": "stream",
     "text": [
      "+--------------------+---------------+\n",
      "|            features|Chance of Admit|\n",
      "+--------------------+---------------+\n",
      "|[290.0,100.0,1.0,...|           0.47|\n",
      "|[290.0,104.0,4.0,...|           0.45|\n",
      "|[294.0,93.0,1.0,1...|           0.46|\n",
      "|[294.0,95.0,1.0,1...|           0.49|\n",
      "|[295.0,96.0,2.0,1...|           0.47|\n",
      "|[295.0,99.0,1.0,2...|           0.37|\n",
      "|[295.0,99.0,2.0,2...|           0.57|\n",
      "|[295.0,101.0,2.0,...|           0.69|\n",
      "|[296.0,95.0,2.0,3...|           0.44|\n",
      "|[296.0,99.0,2.0,2...|           0.61|\n",
      "|[296.0,99.0,2.0,3...|           0.47|\n",
      "|[296.0,101.0,1.0,...|            0.6|\n",
      "|[297.0,99.0,4.0,3...|           0.54|\n",
      "|[297.0,100.0,1.0,...|           0.52|\n",
      "|[297.0,101.0,3.0,...|           0.57|\n",
      "|[298.0,92.0,1.0,2...|           0.51|\n",
      "|[298.0,97.0,3.121...|           0.45|\n",
      "|[298.0,98.0,2.0,4...|           0.34|\n",
      "|[298.0,99.0,1.0,1...|           0.53|\n",
      "|[298.0,105.0,3.0,...|           0.69|\n",
      "+--------------------+---------------+\n",
      "only showing top 20 rows\n",
      "\n",
      "+--------------------+---------------+\n",
      "|            features|Chance of Admit|\n",
      "+--------------------+---------------+\n",
      "|[293.0,97.0,2.0,2...|           0.64|\n",
      "|[295.0,93.0,1.0,2...|           0.46|\n",
      "|[296.0,97.0,2.0,1...|           0.49|\n",
      "|[297.0,96.0,2.0,2...|           0.43|\n",
      "|[297.0,96.0,2.0,2...|           0.34|\n",
      "|[297.0,98.0,2.0,2...|           0.59|\n",
      "|[298.0,98.0,2.0,1...|           0.44|\n",
      "|[298.0,100.0,3.0,...|           0.58|\n",
      "|[298.0,101.0,2.0,...|           0.54|\n",
      "|[298.0,101.0,4.0,...|           0.53|\n",
      "|[298.0,107.187751...|           0.46|\n",
      "|[299.0,97.0,3.0,5...|           0.38|\n",
      "|[299.0,100.0,2.0,...|           0.51|\n",
      "|[300.0,97.0,2.0,3...|           0.65|\n",
      "|[300.0,99.0,1.0,3...|           0.36|\n",
      "|[300.0,102.0,3.0,...|           0.63|\n",
      "|[300.0,104.0,3.0,...|           0.71|\n",
      "|[301.0,97.0,2.0,3...|           0.44|\n",
      "|[301.0,100.0,3.0,...|           0.67|\n",
      "|[301.0,107.0,3.0,...|           0.62|\n",
      "+--------------------+---------------+\n",
      "only showing top 20 rows\n",
      "\n"
     ]
    }
   ],
   "source": [
    "train_df.show()\n",
    "test_df.show()"
   ]
  },
  {
   "cell_type": "code",
   "execution_count": 33,
   "metadata": {
    "id": "9w_Rj1O40a8H"
   },
   "outputs": [],
   "source": [
    "lin_reg = LinearRegression(featuresCol = 'features', labelCol='Chance of Admit')\n",
    "linear_model = lin_reg.fit(train_df)"
   ]
  },
  {
   "cell_type": "code",
   "execution_count": 34,
   "metadata": {
    "colab": {
     "base_uri": "https://localhost:8080/"
    },
    "id": "K2eaD4xt0fNf",
    "outputId": "fa7e5f05-515f-4530-cfe7-031c941243be"
   },
   "outputs": [
    {
     "name": "stdout",
     "output_type": "stream",
     "text": [
      "Coefficients: [0.001164748062041676,0.002731724659456793,0.002444087344080545,0.010395272333342713,0.013826716932124027,0.12110420909124693,0.035173941251165235]\n",
      "Intercept: -1.092643840771405\n"
     ]
    }
   ],
   "source": [
    "print(\"Coefficients: \" + str(linear_model.coefficients))\n",
    "print(\"Intercept: \" + str(linear_model.intercept))"
   ]
  },
  {
   "cell_type": "code",
   "execution_count": 35,
   "metadata": {
    "colab": {
     "base_uri": "https://localhost:8080/"
    },
    "id": "up7nM4LE0g0f",
    "outputId": "57fcd9a5-209f-42b6-ffdf-b62646250704"
   },
   "outputs": [
    {
     "name": "stdout",
     "output_type": "stream",
     "text": [
      "RMSE: 0.059702\n",
      "r2: 0.814640\n"
     ]
    }
   ],
   "source": [
    "trainSummary = linear_model.summary\n",
    "print(\"RMSE: %f\" % trainSummary.rootMeanSquaredError)\n",
    "print(\"r2: %f\" % trainSummary.r2)"
   ]
  },
  {
   "cell_type": "code",
   "execution_count": 36,
   "metadata": {
    "colab": {
     "base_uri": "https://localhost:8080/"
    },
    "id": "U1ZBTuVd0jBm",
    "outputId": "bf9b348d-d111-458d-e578-e05a80822758"
   },
   "outputs": [
    {
     "name": "stdout",
     "output_type": "stream",
     "text": [
      "+-------------------+---------------+--------------------+\n",
      "|         prediction|Chance of Admit|            features|\n",
      "+-------------------+---------------+--------------------+\n",
      "| 0.5743770157191435|           0.64|[293.0,97.0,2.0,2...|\n",
      "|0.42784557909356846|           0.46|[295.0,93.0,1.0,2...|\n",
      "| 0.5098462486231841|           0.49|[296.0,97.0,2.0,1...|\n",
      "| 0.5226605254433108|           0.43|[297.0,96.0,2.0,2...|\n",
      "| 0.4738659431076402|           0.34|[297.0,96.0,2.0,2...|\n",
      "| 0.5222211495690103|           0.59|[297.0,98.0,2.0,2...|\n",
      "| 0.5206634832977826|           0.44|[298.0,98.0,2.0,1...|\n",
      "| 0.6142032386845719|           0.58|[298.0,100.0,3.0,...|\n",
      "| 0.5303688890009308|           0.54|[298.0,101.0,2.0,...|\n",
      "| 0.5948053448188801|           0.53|[298.0,101.0,4.0,...|\n",
      "| 0.5417731818487697|           0.46|[298.0,107.187751...|\n",
      "| 0.5559534778676702|           0.38|[299.0,97.0,3.0,5...|\n",
      "| 0.5364216304421325|           0.51|[299.0,100.0,2.0,...|\n",
      "| 0.6154300933808228|           0.65|[300.0,97.0,2.0,3...|\n",
      "|0.44718724350611594|           0.36|[300.0,99.0,1.0,3...|\n",
      "| 0.6031203981499476|           0.63|[300.0,102.0,3.0,...|\n",
      "| 0.6142861361254568|           0.71|[300.0,104.0,3.0,...|\n",
      "| 0.5899518831044777|           0.44|[301.0,97.0,2.0,3...|\n",
      "| 0.5899914943179985|           0.67|[301.0,100.0,3.0,...|\n",
      "| 0.6875321524775919|           0.62|[301.0,107.0,3.0,...|\n",
      "+-------------------+---------------+--------------------+\n",
      "only showing top 20 rows\n",
      "\n"
     ]
    }
   ],
   "source": [
    "# prediction\n",
    "\n",
    "predictions = linear_model.transform(test_df)\n",
    "predictions.select(\"prediction\",\"Chance of Admit\",\"features\").show()"
   ]
  },
  {
   "cell_type": "code",
   "execution_count": 37,
   "metadata": {
    "colab": {
     "base_uri": "https://localhost:8080/"
    },
    "id": "aIk5xQ4M0lm4",
    "outputId": "4f79e06d-2d34-4496-f028-c4062d782bbf"
   },
   "outputs": [
    {
     "name": "stdout",
     "output_type": "stream",
     "text": [
      "R Squared (R2) on test data = 0.822919129851789\n"
     ]
    }
   ],
   "source": [
    "from pyspark.ml.evaluation import RegressionEvaluator\n",
    "pred_evaluator = RegressionEvaluator(predictionCol=\"prediction\", \\\n",
    "                 labelCol=\"Chance of Admit\",metricName=\"r2\")\n",
    "print(\"R Squared (R2) on test data =\", pred_evaluator.evaluate(predictions))"
   ]
  },
  {
   "cell_type": "markdown",
   "metadata": {
    "id": "QlJ0_QoJnkO-"
   },
   "source": [
    "#### Random Forest Regressor"
   ]
  },
  {
   "cell_type": "code",
   "execution_count": 38,
   "metadata": {
    "id": "hKJIDhEHnpJp"
   },
   "outputs": [],
   "source": [
    "featureIndexer =VectorIndexer(inputCol=\"features\", outputCol=\"indexedFeatures\", maxCategories=4).fit(output)"
   ]
  },
  {
   "cell_type": "code",
   "execution_count": 39,
   "metadata": {
    "id": "ffO6NywJnxxy"
   },
   "outputs": [],
   "source": [
    "featureIndexer = featureIndexer.transform(output)"
   ]
  },
  {
   "cell_type": "code",
   "execution_count": 40,
   "metadata": {
    "id": "8ooaetyRoq37"
   },
   "outputs": [],
   "source": [
    "new_indexed_data = featureIndexer.select(\"indexedFeatures\", \"Chance of Admit\")"
   ]
  },
  {
   "cell_type": "code",
   "execution_count": 41,
   "metadata": {
    "id": "q22T41nGoskj"
   },
   "outputs": [],
   "source": [
    "training, test = new_indexed_data.randomSplit([0.7, 0.3])"
   ]
  },
  {
   "cell_type": "code",
   "execution_count": 42,
   "metadata": {
    "colab": {
     "base_uri": "https://localhost:8080/"
    },
    "id": "LhSvNCHhouPo",
    "outputId": "22fecfa3-ea61-41a7-b41f-efbc9a785144"
   },
   "outputs": [
    {
     "name": "stdout",
     "output_type": "stream",
     "text": [
      "+--------------------+---------------+\n",
      "|     indexedFeatures|Chance of Admit|\n",
      "+--------------------+---------------+\n",
      "|[290.0,104.0,4.0,...|           0.45|\n",
      "|[293.0,97.0,2.0,2...|           0.64|\n",
      "|[294.0,95.0,1.0,1...|           0.49|\n",
      "|[295.0,96.0,2.0,1...|           0.47|\n",
      "|[295.0,99.0,1.0,2...|           0.37|\n",
      "|[295.0,101.0,2.0,...|           0.69|\n",
      "|[296.0,95.0,2.0,3...|           0.44|\n",
      "|[296.0,99.0,2.0,2...|           0.61|\n",
      "|[296.0,99.0,2.0,3...|           0.47|\n",
      "|[297.0,96.0,2.0,2...|           0.43|\n",
      "|[297.0,96.0,2.0,2...|           0.34|\n",
      "|[297.0,98.0,2.0,2...|           0.59|\n",
      "|[297.0,99.0,4.0,3...|           0.54|\n",
      "|[297.0,101.0,3.0,...|           0.57|\n",
      "|[298.0,92.0,1.0,2...|           0.51|\n",
      "|[298.0,98.0,2.0,4...|           0.34|\n",
      "|[298.0,99.0,1.0,1...|           0.53|\n",
      "|[298.0,100.0,3.0,...|           0.58|\n",
      "|[298.0,101.0,2.0,...|           0.54|\n",
      "|[298.0,101.0,4.0,...|           0.53|\n",
      "+--------------------+---------------+\n",
      "only showing top 20 rows\n",
      "\n"
     ]
    }
   ],
   "source": [
    "training.show()"
   ]
  },
  {
   "cell_type": "code",
   "execution_count": 43,
   "metadata": {
    "colab": {
     "base_uri": "https://localhost:8080/"
    },
    "id": "8N1tOj06ov6J",
    "outputId": "6899fbed-fa5d-4e9d-a4ab-bb63ff5ff14f"
   },
   "outputs": [
    {
     "name": "stdout",
     "output_type": "stream",
     "text": [
      "+--------------------+---------------+\n",
      "|     indexedFeatures|Chance of Admit|\n",
      "+--------------------+---------------+\n",
      "|[290.0,100.0,1.0,...|           0.47|\n",
      "|[294.0,93.0,1.0,1...|           0.46|\n",
      "|[295.0,93.0,1.0,2...|           0.46|\n",
      "|[295.0,99.0,2.0,2...|           0.57|\n",
      "|[296.0,97.0,2.0,1...|           0.49|\n",
      "|[296.0,101.0,1.0,...|            0.6|\n",
      "|[297.0,100.0,1.0,...|           0.52|\n",
      "|[298.0,97.0,3.121...|           0.45|\n",
      "|[298.0,98.0,2.0,1...|           0.44|\n",
      "|[298.0,105.0,3.0,...|           0.69|\n",
      "|[298.0,107.187751...|           0.46|\n",
      "|[299.0,94.0,1.0,1...|           0.42|\n",
      "|[299.0,97.0,3.0,5...|           0.38|\n",
      "|[300.0,97.0,2.0,3...|           0.65|\n",
      "|[300.0,98.0,1.0,2...|           0.61|\n",
      "|[300.0,105.0,1.0,...|           0.58|\n",
      "|[301.0,96.0,1.0,3...|           0.54|\n",
      "|[301.0,98.0,1.0,2...|           0.67|\n",
      "|[301.0,100.0,3.0,...|           0.67|\n",
      "|[301.0,102.0,3.0,...|           0.68|\n",
      "+--------------------+---------------+\n",
      "only showing top 20 rows\n",
      "\n"
     ]
    }
   ],
   "source": [
    "test.show()"
   ]
  },
  {
   "cell_type": "code",
   "execution_count": 44,
   "metadata": {
    "id": "ewbBugYkox4Y"
   },
   "outputs": [],
   "source": [
    "random_forest_reg = RandomForestRegressor(featuresCol=\"indexedFeatures\",labelCol=\"Chance of Admit\" )"
   ]
  },
  {
   "cell_type": "code",
   "execution_count": 50,
   "metadata": {
    "id": "6XL2y7m7ozxx"
   },
   "outputs": [],
   "source": [
    "# Train model.  This also runs the indexer.\n",
    "model = random_forest_reg.fit(test)"
   ]
  },
  {
   "cell_type": "code",
   "execution_count": 51,
   "metadata": {
    "id": "rP_Wu2zSo1Yg"
   },
   "outputs": [],
   "source": [
    "# Make predictions.\n",
    "predictions = model.transform(test)"
   ]
  },
  {
   "cell_type": "code",
   "execution_count": 52,
   "metadata": {
    "colab": {
     "base_uri": "https://localhost:8080/"
    },
    "id": "r-mJWsMMo4D5",
    "outputId": "c1d55c7d-41ca-4cc3-d43a-a46f99426382"
   },
   "outputs": [
    {
     "name": "stdout",
     "output_type": "stream",
     "text": [
      "+--------------------+---------------+-------------------+\n",
      "|     indexedFeatures|Chance of Admit|         prediction|\n",
      "+--------------------+---------------+-------------------+\n",
      "|[290.0,100.0,1.0,...|           0.47| 0.4777091139306625|\n",
      "|[294.0,93.0,1.0,1...|           0.46|0.46320655139784017|\n",
      "|[295.0,93.0,1.0,2...|           0.46| 0.4712184565549805|\n",
      "|[295.0,99.0,2.0,2...|           0.57| 0.5531493390883001|\n",
      "|[296.0,97.0,2.0,1...|           0.49| 0.5342833346057506|\n",
      "|[296.0,101.0,1.0,...|            0.6| 0.5833469651425871|\n",
      "|[297.0,100.0,1.0,...|           0.52| 0.5613966458523401|\n",
      "|[298.0,97.0,3.121...|           0.45| 0.4776309536681289|\n",
      "|[298.0,98.0,2.0,1...|           0.44| 0.4717858990778526|\n",
      "|[298.0,105.0,3.0,...|           0.69| 0.6983823208545262|\n",
      "|[298.0,107.187751...|           0.46| 0.5209569958580408|\n",
      "|[299.0,94.0,1.0,1...|           0.42| 0.4394690415014823|\n",
      "|[299.0,97.0,3.0,5...|           0.38|0.49078205158440474|\n",
      "|[300.0,97.0,2.0,3...|           0.65| 0.6034195112287496|\n",
      "|[300.0,98.0,1.0,2...|           0.61| 0.6075186057061146|\n",
      "|[300.0,105.0,1.0,...|           0.58| 0.5777494277192092|\n",
      "|[301.0,96.0,1.0,3...|           0.54| 0.5736594075875315|\n",
      "|[301.0,98.0,1.0,2...|           0.67| 0.6258148956536717|\n",
      "|[301.0,100.0,3.0,...|           0.67|  0.639644238335121|\n",
      "|[301.0,102.0,3.0,...|           0.68| 0.6491375967615809|\n",
      "+--------------------+---------------+-------------------+\n",
      "only showing top 20 rows\n",
      "\n"
     ]
    }
   ],
   "source": [
    "predictions.show()"
   ]
  },
  {
   "cell_type": "code",
   "execution_count": 53,
   "metadata": {
    "colab": {
     "base_uri": "https://localhost:8080/"
    },
    "id": "541ENvqYqJ2K",
    "outputId": "50e47211-ced0-473f-d1ad-d0f227f00ddc"
   },
   "outputs": [
    {
     "name": "stdout",
     "output_type": "stream",
     "text": [
      "Root Mean Squared Error (RMSE) on test data =  0.04024199137120952\n"
     ]
    }
   ],
   "source": [
    "evaluator = RegressionEvaluator(labelCol=\"Chance of Admit\", predictionCol=\"prediction\", metricName=\"rmse\")\n",
    "print (\"Root Mean Squared Error (RMSE) on test data = \",evaluator.evaluate(predictions))"
   ]
  },
  {
   "cell_type": "code",
   "execution_count": 54,
   "metadata": {
    "colab": {
     "base_uri": "https://localhost:8080/"
    },
    "id": "I0Q5_eaEqRx7",
    "outputId": "942ebba2-bcff-471f-ca7c-53d8deafe82a"
   },
   "outputs": [
    {
     "name": "stdout",
     "output_type": "stream",
     "text": [
      "R Squared (R2) on test data = 0.9153660775567585\n"
     ]
    }
   ],
   "source": [
    "evaluator = RegressionEvaluator(labelCol=\"Chance of Admit\", predictionCol=\"prediction\", metricName=\"r2\")\n",
    "print(\"R Squared (R2) on test data =\", evaluator.evaluate(predictions))"
   ]
  },
  {
   "cell_type": "code",
   "execution_count": null,
   "metadata": {
    "id": "RxXek97KqTdx"
   },
   "outputs": [],
   "source": []
  }
 ],
 "metadata": {
  "colab": {
   "name": "Ex-06-PySpark Random Forest Regressor.ipynb",
   "provenance": []
  },
  "kernelspec": {
   "display_name": "Python 3 (ipykernel)",
   "language": "python",
   "name": "python3"
  },
  "language_info": {
   "codemirror_mode": {
    "name": "ipython",
    "version": 3
   },
   "file_extension": ".py",
   "mimetype": "text/x-python",
   "name": "python",
   "nbconvert_exporter": "python",
   "pygments_lexer": "ipython3",
   "version": "3.9.16"
  }
 },
 "nbformat": 4,
 "nbformat_minor": 1
}
